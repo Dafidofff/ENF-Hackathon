{
 "cells": [
  {
   "cell_type": "markdown",
   "metadata": {},
   "source": [
    "# Equivariant Neural Field (ENF) Training\n",
    "\n",
    "This notebook implements training for an Equivariant Neural Field model. ENFs are a type of neural field that respects certain symmetries in the data, making them particularly effective for image representation tasks."
   ]
  },
  {
   "cell_type": "markdown",
   "metadata": {},
   "source": [
    "## Imports and Environment Setup"
   ]
  },
  {
   "cell_type": "code",
   "execution_count": 1,
   "metadata": {},
   "outputs": [],
   "source": [
    "import os \n",
    "import math\n",
    "import logging\n",
    "from pathlib import Path\n",
    "\n",
    "import ml_collections\n",
    "import torch\n",
    "import jax\n",
    "import jax.numpy as jnp\n",
    "import optax\n",
    "import orbax.checkpoint as ocp\n",
    "import matplotlib.pyplot as plt\n",
    "import wandb\n",
    "\n",
    "# Custom datasets\n",
    "from datasets import get_dataloader\n",
    "from models.enf.model import EquivariantNeuralField\n",
    "from models.enf.bi_invariants import get_bi_invariant\n",
    "\n",
    "# Set environment to use GPU\n",
    "os.environ['JAX_PLATFORM_NAME'] = 'gpu'\n",
    "\n",
    "# Configure logging\n",
    "logging.getLogger().setLevel(logging.INFO)"
   ]
  },
  {
   "cell_type": "markdown",
   "metadata": {},
   "source": [
    "## Configuration\n",
    "\n",
    "Define the configuration for the model, dataset, and training parameters."
   ]
  },
  {
   "cell_type": "code",
   "execution_count": 2,
   "metadata": {},
   "outputs": [],
   "source": [
    "# Define config\n",
    "config = ml_collections.ConfigDict()\n",
    "config.seed = 68\n",
    "config.debug = False\n",
    "\n",
    "# Define the ENF model parameters\n",
    "config.enf = ml_collections.ConfigDict()\n",
    "config.enf.num_in = 2           # Images are 2D\n",
    "config.enf.num_out = 3          # RGB images = 3 channels, grayscale = 1\n",
    "config.enf.num_hidden = 128\n",
    "config.enf.num_heads = 3\n",
    "config.enf.att_dim = 128\n",
    "config.enf.num_latents = 4\n",
    "config.enf.latent_dim = 32\n",
    "config.enf.freq_multiplier_query = 1.0 \n",
    "config.enf.freq_multiplier_value = 2.0 \n",
    "config.enf.k_nearest = 4\n",
    "config.enf.bi_invariant = \"translation\"  # Choose between translation and roto_translation_2d\n",
    "\n",
    "# Dataset config\n",
    "config.dataset = ml_collections.ConfigDict()\n",
    "config.dataset.path = \"./data\"\n",
    "config.dataset.name = \"FIGURE\"           # Choose between cifar10 and FIGURE\n",
    "config.dataset.num_signals_train = 1000\n",
    "config.dataset.num_signals_test = 1000\n",
    "config.dataset.batch_size = 32\n",
    "config.dataset.num_workers = 8\n",
    "\n",
    "# Specific FIGURE dataset parameters\n",
    "config.dataset.figure_type = \"FIGURE-Shape-B\"  # Choose between FIGURE-Shape-B and FIGURE-Shape-CB\n",
    "config.dataset.swap_bias = False               # Mainly interesting for down-stream tasks\n",
    "config.dataset.color_consistency = 0.9\n",
    "\n",
    "# Optimizer config\n",
    "config.optim = ml_collections.ConfigDict()\n",
    "config.optim.lr_enf = 5e-4\n",
    "config.optim.inner_lr_c = 15.\n",
    "config.optim.inner_lr_p = 0.\n",
    "config.optim.inner_lr_g = 0.\n",
    "config.optim.inner_steps = 3\n",
    "\n",
    "# Training config\n",
    "config.train = ml_collections.ConfigDict()\n",
    "config.train.num_epochs = 5000\n",
    "config.train.log_interval = 100\n",
    "\n"
   ]
  },
  {
   "cell_type": "markdown",
   "metadata": {},
   "source": [
    "## Model Initialization\n",
    "\n",
    "Load the dataset, create coordinate grid, and initialize the ENF model."
   ]
  },
  {
   "cell_type": "code",
   "execution_count": 3,
   "metadata": {},
   "outputs": [
    {
     "name": "stdout",
     "output_type": "stream",
     "text": [
      "Downloading FIGURE-Shape-B (train) from https://staff.fnwi.uva.nl/e.j.bekkers/FIGURE/0.9/FIGURE-Shape-B.h5 to figure_datasets/0.9/FIGURE-Shape-B.h5...\n",
      "Downloaded FIGURE-Shape-B (train) to figure_datasets/0.9/FIGURE-Shape-B.h5.\n",
      "Downloading FIGURE-Shape-B (test) from https://staff.fnwi.uva.nl/e.j.bekkers/FIGURE/0.9/FIGURE-Shape-B-test.h5 to figure_datasets/0.9/FIGURE-Shape-B-test.h5...\n",
      "Downloaded FIGURE-Shape-B (test) to figure_datasets/0.9/FIGURE-Shape-B-test.h5.\n"
     ]
    },
    {
     "name": "stderr",
     "output_type": "stream",
     "text": [
      "INFO:2025-02-26 18:17:45,215:jax._src.xla_bridge:927: Unable to initialize backend 'rocm': module 'jaxlib.xla_extension' has no attribute 'GpuAllocatorConfig'\n",
      "INFO:jax._src.xla_bridge:Unable to initialize backend 'rocm': module 'jaxlib.xla_extension' has no attribute 'GpuAllocatorConfig'\n",
      "INFO:2025-02-26 18:17:45,221:jax._src.xla_bridge:927: Unable to initialize backend 'tpu': INTERNAL: Failed to open libtpu.so: libtpu.so: cannot open shared object file: No such file or directory\n",
      "INFO:jax._src.xla_bridge:Unable to initialize backend 'tpu': INTERNAL: Failed to open libtpu.so: libtpu.so: cannot open shared object file: No such file or directory\n"
     ]
    },
    {
     "ename": "",
     "evalue": "",
     "output_type": "error",
     "traceback": [
      "\u001b[1;31mThe Kernel crashed while executing code in the current cell or a previous cell. \n",
      "\u001b[1;31mPlease review the code in the cell(s) to identify a possible cause of the failure. \n",
      "\u001b[1;31mClick <a href='https://aka.ms/vscodeJupyterKernelCrash'>here</a> for more info. \n",
      "\u001b[1;31mView Jupyter <a href='command:jupyter.viewOutput'>log</a> for further details."
     ]
    }
   ],
   "source": [
    "# Load dataset, get sample image, create corresponding coordinates\n",
    "train_dloader, test_dloader = get_dataloader(config.dataset)\n",
    "sample = next(iter(train_dloader))\n",
    "img_shape = sample[0].shape[1:]\n",
    "\n",
    "# Random key for JAX operations\n",
    "key = jax.random.PRNGKey(55)\n",
    "\n",
    "# Create coordinate grid\n",
    "x = jnp.stack(jnp.meshgrid(jnp.linspace(-1, 1, img_shape[0]), jnp.linspace(-1, 1, img_shape[1])), axis=-1)\n",
    "x = jnp.reshape(x, (-1, 2))\n",
    "x = jnp.repeat(x[None, ...], config.dataset.batch_size, axis=0)\n",
    "\n",
    "# Define the model\n",
    "bi_inv = get_bi_invariant(config.enf.bi_invariant)\n",
    "model = EquivariantNeuralField(\n",
    "    num_hidden=config.enf.num_hidden,\n",
    "    att_dim=config.enf.att_dim,\n",
    "    num_heads=config.enf.num_heads,\n",
    "    num_out=config.enf.num_out,\n",
    "    emb_freq_q=config.enf.freq_multiplier_query,\n",
    "    emb_freq_v=config.enf.freq_multiplier_value,\n",
    "    nearest_k=config.enf.k_nearest,\n",
    "    bi_invariant=bi_inv,\n",
    ")"
   ]
  },
  {
   "cell_type": "markdown",
   "metadata": {},
   "source": [
    "## Initialize Model Parameters\n",
    "\n",
    "In JAX, we need to initialize model parameters by passing dummy inputs through the model so it can infer parameter shapes for JIT compilation."
   ]
  },
  {
   "cell_type": "code",
   "execution_count": null,
   "metadata": {},
   "outputs": [],
   "source": [
    "# Create dummy latents for model initialization\n",
    "d_p = jnp.ones((config.dataset.batch_size, config.enf.num_latents, 2))                        # poses\n",
    "d_c = jnp.ones((config.dataset.batch_size, config.enf.num_latents, config.enf.latent_dim))    # context vectors\n",
    "d_g = jnp.ones((config.dataset.batch_size, config.enf.num_latents, 1))                        # gaussian window parameter\n",
    "\n",
    "# Initialize the model parameters\n",
    "enf_params = model.init(key, x, d_p, d_c, d_g)\n",
    "\n",
    "# Define optimizer for the ENF backbone\n",
    "enf_optimizer = optax.adam(learning_rate=config.optim.lr_enf)\n",
    "enf_opt_state = enf_optimizer.init(enf_params)"
   ]
  },
  {
   "cell_type": "markdown",
   "metadata": {},
   "source": [
    "## Setup Checkpointing\n",
    "\n",
    "Configure Orbax for model checkpointing."
   ]
  },
  {
   "cell_type": "code",
   "execution_count": null,
   "metadata": {},
   "outputs": [],
   "source": [
    "# Define checkpointing\n",
    "checkpoint_options = ocp.CheckpointManagerOptions(\n",
    "    save_interval_steps=1,\n",
    "    max_to_keep=1,\n",
    ")\n",
    "# checkpoint_manager = ocp.CheckpointManager(\n",
    "#     directory=Path(config.checkpoint_path + f'/{config.dataset.name}').absolute(),\n",
    "#     options=checkpoint_options,\n",
    "#     item_handlers={\n",
    "#         'state': ocp.StandardCheckpointHandler(),\n",
    "#         'config': ocp.JsonCheckpointHandler(),\n",
    "#     },\n",
    "#     item_names=['state', 'config']\n",
    "# )"
   ]
  },
  {
   "cell_type": "markdown",
   "metadata": {},
   "source": [
    "## Define Training Functions\n",
    "\n",
    "Define the inner loop and outer step functions for training. The inner loop optimizes the latent variables, while the outer step updates the model parameters."
   ]
  },
  {
   "cell_type": "code",
   "execution_count": null,
   "metadata": {},
   "outputs": [],
   "source": [
    "@jax.jit\n",
    "def inner_loop(enf_params, x_i, y_i, key):\n",
    "    # Sample poses\n",
    "    if config.enf.num_latents == 1:\n",
    "        poses = jnp.zeros((1, config.enf.num_latents, 2))\n",
    "    else:\n",
    "        lims = 1 - 1 / math.sqrt(config.enf.num_latents)\n",
    "        poses = jnp.stack(jnp.meshgrid(jnp.linspace(-lims, lims, int(math.sqrt(config.enf.num_latents))),\n",
    "                                       jnp.linspace(-lims, lims, int(math.sqrt(config.enf.num_latents)))), axis=-1)\n",
    "        poses = jnp.reshape(poses, (1, -1, 2))\n",
    "    poses = poses.repeat(config.dataset.batch_size, axis=0)\n",
    "\n",
    "    # Add some noise to the poses\n",
    "    poses = poses + jax.random.normal(key, poses.shape) * 0.1 / jnp.sqrt(config.enf.num_latents)\n",
    "\n",
    "    # Initialize values for the poses, context and window\n",
    "    c = jnp.ones((x_i.shape[0], config.enf.num_latents, config.enf.latent_dim)) / config.enf.latent_dim  # context vectors\n",
    "    g = jnp.ones((x_i.shape[0], config.enf.num_latents, 1)) * 2 / jnp.sqrt(config.enf.num_latents)  # gaussian window parameter\n",
    "\n",
    "    def mse_loss(z, x_i, y_i):\n",
    "        out = model.apply(enf_params, x_i, *z)\n",
    "        return jnp.sum(jnp.mean((out - y_i) ** 2, axis=(1, 2)), axis=0)\n",
    "\n",
    "    loss, grads = jax.value_and_grad(mse_loss)((poses, c, g), x_i, y_i)\n",
    "\n",
    "    # Update the latent features\n",
    "    c = c - config.optim.inner_lr_c * grads[1]\n",
    "\n",
    "    # Update the poses if specific lr > 0\n",
    "    if config.optim.inner_lr_p > 0:\n",
    "        poses = poses - config.optim.inner_lr_p * grads[0]\n",
    "    if config.optim.inner_lr_g > 0:\n",
    "        g = g - config.optim.inner_lr_g * grads[2]\n",
    "\n",
    "    # Return loss with resulting latents\n",
    "    return mse_loss((poses, c, g), x_i, y_i), (poses, c, g)\n",
    "\n",
    "@jax.jit\n",
    "def outer_step(x_i, y_i, enf_params, enf_opt_state, key):\n",
    "    # Split key\n",
    "    key, new_key = jax.random.split(key)\n",
    "\n",
    "    # Perform inner loop optimization\n",
    "    (loss, _), grads = jax.value_and_grad(inner_loop, has_aux=True)(enf_params, x_i, y_i, key)\n",
    "\n",
    "    # Update the ENF backbone\n",
    "    enf_grads, enf_opt_state = enf_optimizer.update(grads, enf_opt_state)\n",
    "    enf_params = optax.apply_updates(enf_params, enf_grads)\n",
    "\n",
    "    # Return updated parameters and new key\n",
    "    return loss, enf_params, enf_opt_state, new_key"
   ]
  },
  {
   "cell_type": "markdown",
   "metadata": {},
   "source": [
    "## Training Loop\n",
    "\n",
    "Execute the training loop, periodically logging results and saving checkpoints."
   ]
  },
  {
   "cell_type": "code",
   "execution_count": null,
   "metadata": {},
   "outputs": [],
   "source": [
    "# Training loop\n",
    "glob_step, lowest_loss = 0, jnp.inf\n",
    "for epoch in range(config.train.num_epochs):\n",
    "    epoch_loss = []\n",
    "    for i, batch in enumerate(train_dloader):\n",
    "        # Unpack batch, flatten img\n",
    "        img = batch[0]\n",
    "        img = img + torch.randn_like(img)  # Add noise to the input\n",
    "        y = jnp.reshape(img, (img.shape[0], -1, img.shape[-1]))\n",
    "\n",
    "        # Perform outer loop optimization\n",
    "        loss, enf_params, enf_opt_state, key = outer_step(\n",
    "            x, y, enf_params, enf_opt_state, key)\n",
    "\n",
    "        epoch_loss.append(loss)\n",
    "        glob_step += 1\n",
    "\n",
    "        if glob_step % config.train.log_interval == 0:\n",
    "            # Reconstruct and log an image, perform inner loop\n",
    "            _, (p_b, c, g) = inner_loop(enf_params, x, y, key)\n",
    "\n",
    "            # Reconstruct image\n",
    "            img_r = model.apply(enf_params, x, p_b, c, g)[0]\n",
    "\n",
    "            # Min max normalization\n",
    "            min_val = jnp.min(img[0])\n",
    "            max_val = jnp.max(img[0])\n",
    "\n",
    "            img_r = (img_r - jnp.min(img_r)) / (jnp.max(img_r) - jnp.min(img_r))\n",
    "            img = (img - min_val) / (max_val - min_val)\n",
    "\n",
    "            print(img.min(), img.max(), img_r.min(), img_r.max())\n",
    "\n",
    "            # Plot the original and reconstructed image\n",
    "            plt.figure(figsize=(12, 4))\n",
    "            plt.subplot(131)\n",
    "            plt.imshow(jnp.reshape(img[0], (img_shape)))\n",
    "            plt.title(\"Original\")\n",
    "            plt.axis('off')\n",
    "            plt.subplot(132)\n",
    "            plt.imshow(jnp.reshape(img_r, (img_shape)))\n",
    "            plt.title(\"Reconstructed\")\n",
    "            plt.axis('off')\n",
    "\n",
    "            # Plot the poses\n",
    "            plt.subplot(133)\n",
    "            plt.imshow(jnp.reshape(img_r, (img_shape)))\n",
    "            plt.title(\"Poses\")\n",
    "            plt.axis('off')\n",
    "\n",
    "            # Poses are [-1, 1], map to [0, img_shape]\n",
    "            poses_m = (p_b + 1) / 2 * img_shape[0]\n",
    "            plt.scatter(poses_m[0, :, 0], poses_m[0, :, 1], c='r')\n",
    "            wandb.log({\"ep_loss\": sum(epoch_loss) / len(epoch_loss), \"reconstructed\": plt})\n",
    "            plt.close('all')\n",
    "            logging.info(f\"epoch {epoch} -- loss: {sum(epoch_loss) / len(epoch_loss)}\")\n",
    "\n",
    "            # Save checkpoint if lowest loss\n",
    "            if sum(epoch_loss) / len(epoch_loss) < lowest_loss:\n",
    "                lowest_loss = sum(epoch_loss) / len(epoch_loss)\n",
    "\n",
    "                checkpoint_manager.save(step=epoch, args=ocp.args.Composite(\n",
    "                    state=ocp.args.StandardSave(enf_params),\n",
    "                    config=ocp.args.JsonSave(config.to_dict())))\n",
    "\n",
    "# Finish the wandb run\n",
    "run.finish()"
   ]
  },
  {
   "cell_type": "markdown",
   "metadata": {},
   "source": [
    "## Conclusion\n",
    "\n",
    "This notebook demonstrates training an Equivariant Neural Field model for image representation. The model learns to represent images using a set of latent variables (poses, context vectors, and gaussian window parameters) that respect certain symmetries in the data.\n",
    "\n",
    "Key components of the implementation include:\n",
    "1. A bi-invariant function that enforces equivariance properties\n",
    "2. A nested optimization approach with inner and outer loops\n",
    "3. Visualization of original images, reconstructions, and learned poses\n",
    "4. Checkpointing to save the best model parameters"
   ]
  }
 ],
 "metadata": {
  "kernelspec": {
   "display_name": "Python 3",
   "language": "python",
   "name": "python3"
  },
  "language_info": {
   "codemirror_mode": {
    "name": "ipython",
    "version": 3
   },
   "file_extension": ".py",
   "mimetype": "text/x-python",
   "name": "python",
   "nbconvert_exporter": "python",
   "pygments_lexer": "ipython3",
   "version": "3.10.16"
  }
 },
 "nbformat": 4,
 "nbformat_minor": 4
}
